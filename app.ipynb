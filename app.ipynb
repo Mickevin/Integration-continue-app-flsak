{
 "cells": [
  {
   "cell_type": "markdown",
   "id": "4037c029",
   "metadata": {},
   "source": [
    "# Démarage de l'application flask"
   ]
  },
  {
   "cell_type": "code",
   "execution_count": 1,
   "id": "118bfddc",
   "metadata": {},
   "outputs": [
    {
     "name": "stdout",
     "output_type": "stream",
     "text": [
      " * Serving Flask app '__main__'\n",
      " * Debug mode: off\n"
     ]
    },
    {
     "name": "stderr",
     "output_type": "stream",
     "text": [
      "\u001b[31m\u001b[1mWARNING: This is a development server. Do not use it in a production deployment. Use a production WSGI server instead.\u001b[0m\n",
      " * Running on http://127.0.0.1:4000\n",
      "\u001b[33mPress CTRL+C to quit\u001b[0m\n"
     ]
    }
   ],
   "source": [
    "from flask import Flask, render_template, request\n",
    "import requests\n",
    "import warnings\n",
    "import time\n",
    "\n",
    "# Données à afficher\n",
    "#Adresses IP de la semabox / Nom de la semabox\n",
    "#o IP publique de l’accès Internet / nom dns dynamique\n",
    "#o Etat de la connexion Internet\n",
    "#o Liste des machines détectées sur le réseau\n",
    "#o Résultats du dernier test de débit\n",
    "\n",
    "warnings.filterwarnings('ignore')\n",
    "\n",
    "def date_time():\n",
    "    day = time.localtime().tm_mday\n",
    "    month = time.localtime().tm_mon\n",
    "    year = time.localtime().tm_year\n",
    "    \n",
    "    return f'{day}/{month}/{year}'\n",
    "\n",
    "date = date_time()\n",
    "app = Flask(__name__)\n",
    "\n",
    "@app.route('/', methods=['GET'])\n",
    "def app_home():\n",
    "    return render_template(\"index.html\", date=date)\n",
    "\n",
    "\n",
    "@app.route('/predict/', methods=['POST'])\n",
    "def result():    \n",
    "    if request.method == 'POST':\n",
    "        return render_template(\"prediction.html\")\n",
    "\n",
    "\n",
    "if __name__ == '__main__':\n",
    "    app.run(host='127.0.0.1',port=4000,)"
   ]
  },
  {
   "cell_type": "markdown",
   "id": "4e824657",
   "metadata": {},
   "source": [
    "# Fonctions essentielles en python"
   ]
  },
  {
   "cell_type": "code",
   "execution_count": 2,
   "id": "6c09aeb7",
   "metadata": {},
   "outputs": [
    {
     "data": {
      "text/plain": [
       "['app.ipynb',\n",
       " '.DS_Store',\n",
       " 'requirements.txt',\n",
       " 'tests',\n",
       " 'README.md',\n",
       " 'utiles.py',\n",
       " '.gitignore',\n",
       " 'static',\n",
       " '.github',\n",
       " 'app.py',\n",
       " 'templates',\n",
       " '.ipynb_checkpoints',\n",
       " 'Procfile',\n",
       " '.git']"
      ]
     },
     "execution_count": 2,
     "metadata": {},
     "output_type": "execute_result"
    }
   ],
   "source": [
    "# Lister les fichiers du répertoire courant\n",
    "import os\n",
    "os.listdir('./')"
   ]
  },
  {
   "cell_type": "code",
   "execution_count": 3,
   "id": "2600da4e",
   "metadata": {},
   "outputs": [
    {
     "name": "stdout",
     "output_type": "stream",
     "text": [
      "Procfile\n",
      "README.md\n",
      "app.ipynb\n",
      "app.py\n",
      "requirements.txt\n",
      "static\n",
      "templates\n",
      "tests\n",
      "utiles.py\n"
     ]
    },
    {
     "data": {
      "text/plain": [
       "0"
      ]
     },
     "execution_count": 3,
     "metadata": {},
     "output_type": "execute_result"
    }
   ],
   "source": [
    "# Exécuter des commandes shell depuis un scrip python\n",
    "os.system('ls')"
   ]
  },
  {
   "cell_type": "code",
   "execution_count": 4,
   "id": "1ea993a5",
   "metadata": {},
   "outputs": [],
   "source": [
    "# Définir une fonction avec de la documentation\n",
    "def function_explicit(variable_explicite:int) -> int:\n",
    "    \"\"\" Présentation fonctionnel\n",
    "    :variable_explicite:int\n",
    "    \n",
    "    :return:pass\n",
    "    \"\"\"\n",
    "    pass"
   ]
  },
  {
   "cell_type": "code",
   "execution_count": 5,
   "id": "9084d5d3",
   "metadata": {},
   "outputs": [
    {
     "data": {
      "text/plain": [
       "' Présentation fonctionnel\\n    :variable_explicite:int\\n    \\n    :return:pass\\n    '"
      ]
     },
     "execution_count": 5,
     "metadata": {},
     "output_type": "execute_result"
    }
   ],
   "source": [
    "# Afficher la documention d'une fonction\n",
    "function_explicit.__doc__"
   ]
  },
  {
   "cell_type": "code",
   "execution_count": 6,
   "id": "ed1365ec",
   "metadata": {},
   "outputs": [
    {
     "name": "stdout",
     "output_type": "stream",
     "text": [
      "'bool' object has no attribute 'split'\n"
     ]
    }
   ],
   "source": [
    "# Gérer les exceptions\n",
    "try:\n",
    "    True.split()\n",
    "except Exception as e: # work on python 3.x\n",
    "    print(e)"
   ]
  },
  {
   "cell_type": "markdown",
   "id": "3b06d97f",
   "metadata": {},
   "source": [
    "# Tests unitaires avec la bibliothèque [unittest](https://docs.python.org/fr/3/library/unittest.html)"
   ]
  },
  {
   "cell_type": "code",
   "execution_count": 7,
   "id": "5d60cb87",
   "metadata": {},
   "outputs": [],
   "source": [
    "import unittest\n",
    "\n",
    "\n",
    "# La méthode assertEqual renvoie une erreure lors les paramètres en entrée sont différents\n",
    "class TestFunctionExplicit(unittest.TestCase):\n",
    "    def test_documentation(self):\n",
    "        self.assertEqual(True,True)\n",
    "        \n",
    "TestFunctionExplicit().test_documentation()"
   ]
  },
  {
   "cell_type": "code",
   "execution_count": 8,
   "id": "c10fbc0a",
   "metadata": {},
   "outputs": [
    {
     "ename": "AssertionError",
     "evalue": "False != True",
     "output_type": "error",
     "traceback": [
      "\u001b[0;31m---------------------------------------------------------------------------\u001b[0m",
      "\u001b[0;31mAssertionError\u001b[0m                            Traceback (most recent call last)",
      "Input \u001b[0;32mIn [8]\u001b[0m, in \u001b[0;36m<cell line: 5>\u001b[0;34m()\u001b[0m\n\u001b[1;32m      2\u001b[0m     \u001b[38;5;28;01mdef\u001b[39;00m \u001b[38;5;21mtest_documentation\u001b[39m(\u001b[38;5;28mself\u001b[39m):\n\u001b[1;32m      3\u001b[0m         \u001b[38;5;28mself\u001b[39m\u001b[38;5;241m.\u001b[39massertEqual(\u001b[38;5;28;01mFalse\u001b[39;00m,\u001b[38;5;28;01mTrue\u001b[39;00m)\n\u001b[0;32m----> 5\u001b[0m \u001b[43mTestFunctionExplicit\u001b[49m\u001b[43m(\u001b[49m\u001b[43m)\u001b[49m\u001b[38;5;241;43m.\u001b[39;49m\u001b[43mtest_documentation\u001b[49m\u001b[43m(\u001b[49m\u001b[43m)\u001b[49m\n",
      "Input \u001b[0;32mIn [8]\u001b[0m, in \u001b[0;36mTestFunctionExplicit.test_documentation\u001b[0;34m(self)\u001b[0m\n\u001b[1;32m      2\u001b[0m \u001b[38;5;28;01mdef\u001b[39;00m \u001b[38;5;21mtest_documentation\u001b[39m(\u001b[38;5;28mself\u001b[39m):\n\u001b[0;32m----> 3\u001b[0m     \u001b[38;5;28;43mself\u001b[39;49m\u001b[38;5;241;43m.\u001b[39;49m\u001b[43massertEqual\u001b[49m\u001b[43m(\u001b[49m\u001b[38;5;28;43;01mFalse\u001b[39;49;00m\u001b[43m,\u001b[49m\u001b[38;5;28;43;01mTrue\u001b[39;49;00m\u001b[43m)\u001b[49m\n",
      "File \u001b[0;32m/Library/Frameworks/Python.framework/Versions/3.10/lib/python3.10/unittest/case.py:845\u001b[0m, in \u001b[0;36mTestCase.assertEqual\u001b[0;34m(self, first, second, msg)\u001b[0m\n\u001b[1;32m    841\u001b[0m \u001b[38;5;124;03m\"\"\"Fail if the two objects are unequal as determined by the '=='\u001b[39;00m\n\u001b[1;32m    842\u001b[0m \u001b[38;5;124;03m   operator.\u001b[39;00m\n\u001b[1;32m    843\u001b[0m \u001b[38;5;124;03m\"\"\"\u001b[39;00m\n\u001b[1;32m    844\u001b[0m assertion_func \u001b[38;5;241m=\u001b[39m \u001b[38;5;28mself\u001b[39m\u001b[38;5;241m.\u001b[39m_getAssertEqualityFunc(first, second)\n\u001b[0;32m--> 845\u001b[0m \u001b[43massertion_func\u001b[49m\u001b[43m(\u001b[49m\u001b[43mfirst\u001b[49m\u001b[43m,\u001b[49m\u001b[43m \u001b[49m\u001b[43msecond\u001b[49m\u001b[43m,\u001b[49m\u001b[43m \u001b[49m\u001b[43mmsg\u001b[49m\u001b[38;5;241;43m=\u001b[39;49m\u001b[43mmsg\u001b[49m\u001b[43m)\u001b[49m\n",
      "File \u001b[0;32m/Library/Frameworks/Python.framework/Versions/3.10/lib/python3.10/unittest/case.py:838\u001b[0m, in \u001b[0;36mTestCase._baseAssertEqual\u001b[0;34m(self, first, second, msg)\u001b[0m\n\u001b[1;32m    836\u001b[0m standardMsg \u001b[38;5;241m=\u001b[39m \u001b[38;5;124m'\u001b[39m\u001b[38;5;132;01m%s\u001b[39;00m\u001b[38;5;124m != \u001b[39m\u001b[38;5;132;01m%s\u001b[39;00m\u001b[38;5;124m'\u001b[39m \u001b[38;5;241m%\u001b[39m _common_shorten_repr(first, second)\n\u001b[1;32m    837\u001b[0m msg \u001b[38;5;241m=\u001b[39m \u001b[38;5;28mself\u001b[39m\u001b[38;5;241m.\u001b[39m_formatMessage(msg, standardMsg)\n\u001b[0;32m--> 838\u001b[0m \u001b[38;5;28;01mraise\u001b[39;00m \u001b[38;5;28mself\u001b[39m\u001b[38;5;241m.\u001b[39mfailureException(msg)\n",
      "\u001b[0;31mAssertionError\u001b[0m: False != True"
     ]
    }
   ],
   "source": [
    "class TestFunctionExplicit(unittest.TestCase):\n",
    "    def test_documentation(self):\n",
    "        self.assertEqual(False,True)\n",
    "        \n",
    "TestFunctionExplicit().test_documentation()"
   ]
  },
  {
   "cell_type": "code",
   "execution_count": null,
   "id": "aa65d62e",
   "metadata": {},
   "outputs": [],
   "source": [
    "class TestFunctionExplicit(unittest.TestCase):\n",
    "    def test_documentation(self, var_bool):\n",
    "        # La méthode fail renvoie une erreure avec un message personalisé\n",
    "        self.fail(\"Not implemented\")\n",
    "            \n",
    "            \n",
    "TestFunctionExplicit().test_documentation(True)"
   ]
  },
  {
   "cell_type": "code",
   "execution_count": null,
   "id": "3f8a02a7",
   "metadata": {},
   "outputs": [],
   "source": [
    "class TestFunctionExplicit(unittest.TestCase):\n",
    "    def test_documentation(self, var_bool):\n",
    "        # La méthode assertTrue renvoie une erreure l'entrée est pas le booléen False\n",
    "        self.assertTrue(var_bool)\n",
    "\n",
    "TestFunctionExplicit().test_documentation(True)\n",
    "TestFunctionExplicit().test_documentation(10)\n",
    "TestFunctionExplicit().test_documentation([0])"
   ]
  },
  {
   "cell_type": "code",
   "execution_count": 9,
   "id": "3b4efe5f",
   "metadata": {},
   "outputs": [
    {
     "ename": "TypeError",
     "evalue": "TestFunctionExplicit.test_documentation() takes 1 positional argument but 2 were given",
     "output_type": "error",
     "traceback": [
      "\u001b[0;31m---------------------------------------------------------------------------\u001b[0m",
      "\u001b[0;31mTypeError\u001b[0m                                 Traceback (most recent call last)",
      "Input \u001b[0;32mIn [9]\u001b[0m, in \u001b[0;36m<cell line: 1>\u001b[0;34m()\u001b[0m\n\u001b[0;32m----> 1\u001b[0m \u001b[43mTestFunctionExplicit\u001b[49m\u001b[43m(\u001b[49m\u001b[43m)\u001b[49m\u001b[38;5;241;43m.\u001b[39;49m\u001b[43mtest_documentation\u001b[49m\u001b[43m(\u001b[49m\u001b[38;5;28;43;01mFalse\u001b[39;49;00m\u001b[43m)\u001b[49m\n",
      "\u001b[0;31mTypeError\u001b[0m: TestFunctionExplicit.test_documentation() takes 1 positional argument but 2 were given"
     ]
    }
   ],
   "source": [
    "TestFunctionExplicit().test_documentation(False)"
   ]
  },
  {
   "cell_type": "code",
   "execution_count": 10,
   "id": "5cf576d9",
   "metadata": {},
   "outputs": [],
   "source": [
    "class TestFunctionExplicit(unittest.TestCase):\n",
    "    def test_documentation(self, var_bool):\n",
    "        # La méthode assertTrue renvoie une erreure l'entrée est différente au booléen False\n",
    "        self.assertFalse(var_bool)\n",
    "        \n",
    "TestFunctionExplicit().test_documentation(False)"
   ]
  },
  {
   "cell_type": "code",
   "execution_count": 11,
   "id": "13f08ca2",
   "metadata": {},
   "outputs": [
    {
     "ename": "AssertionError",
     "evalue": "True is not false",
     "output_type": "error",
     "traceback": [
      "\u001b[0;31m---------------------------------------------------------------------------\u001b[0m",
      "\u001b[0;31mAssertionError\u001b[0m                            Traceback (most recent call last)",
      "Input \u001b[0;32mIn [11]\u001b[0m, in \u001b[0;36m<cell line: 1>\u001b[0;34m()\u001b[0m\n\u001b[0;32m----> 1\u001b[0m \u001b[43mTestFunctionExplicit\u001b[49m\u001b[43m(\u001b[49m\u001b[43m)\u001b[49m\u001b[38;5;241;43m.\u001b[39;49m\u001b[43mtest_documentation\u001b[49m\u001b[43m(\u001b[49m\u001b[38;5;28;43;01mTrue\u001b[39;49;00m\u001b[43m)\u001b[49m\n",
      "Input \u001b[0;32mIn [10]\u001b[0m, in \u001b[0;36mTestFunctionExplicit.test_documentation\u001b[0;34m(self, var_bool)\u001b[0m\n\u001b[1;32m      2\u001b[0m \u001b[38;5;28;01mdef\u001b[39;00m \u001b[38;5;21mtest_documentation\u001b[39m(\u001b[38;5;28mself\u001b[39m, var_bool):\n\u001b[1;32m      3\u001b[0m     \u001b[38;5;66;03m# La méthode assertTrue renvoie une erreure l'entrée est différente au booléen False\u001b[39;00m\n\u001b[0;32m----> 4\u001b[0m     \u001b[38;5;28;43mself\u001b[39;49m\u001b[38;5;241;43m.\u001b[39;49m\u001b[43massertFalse\u001b[49m\u001b[43m(\u001b[49m\u001b[43mvar_bool\u001b[49m\u001b[43m)\u001b[49m\n",
      "File \u001b[0;32m/Library/Frameworks/Python.framework/Versions/3.10/lib/python3.10/unittest/case.py:681\u001b[0m, in \u001b[0;36mTestCase.assertFalse\u001b[0;34m(self, expr, msg)\u001b[0m\n\u001b[1;32m    679\u001b[0m \u001b[38;5;28;01mif\u001b[39;00m expr:\n\u001b[1;32m    680\u001b[0m     msg \u001b[38;5;241m=\u001b[39m \u001b[38;5;28mself\u001b[39m\u001b[38;5;241m.\u001b[39m_formatMessage(msg, \u001b[38;5;124m\"\u001b[39m\u001b[38;5;132;01m%s\u001b[39;00m\u001b[38;5;124m is not false\u001b[39m\u001b[38;5;124m\"\u001b[39m \u001b[38;5;241m%\u001b[39m safe_repr(expr))\n\u001b[0;32m--> 681\u001b[0m     \u001b[38;5;28;01mraise\u001b[39;00m \u001b[38;5;28mself\u001b[39m\u001b[38;5;241m.\u001b[39mfailureException(msg)\n",
      "\u001b[0;31mAssertionError\u001b[0m: True is not false"
     ]
    }
   ],
   "source": [
    "TestFunctionExplicit().test_documentation(True)"
   ]
  },
  {
   "cell_type": "code",
   "execution_count": null,
   "id": "f9add4bc",
   "metadata": {},
   "outputs": [],
   "source": []
  },
  {
   "cell_type": "code",
   "execution_count": null,
   "id": "92bea935",
   "metadata": {},
   "outputs": [],
   "source": []
  },
  {
   "cell_type": "code",
   "execution_count": null,
   "id": "4fd58171",
   "metadata": {},
   "outputs": [],
   "source": []
  },
  {
   "cell_type": "markdown",
   "id": "a906b378",
   "metadata": {},
   "source": [
    "# Bonus - Exploration du code html avec [BeautifulSoup](https://beautiful-soup-4.readthedocs.io/en/latest/)\n",
    "\n",
    "\n",
    "`pip install beautifulsoup4`"
   ]
  },
  {
   "cell_type": "code",
   "execution_count": 12,
   "id": "a3fe61ec",
   "metadata": {},
   "outputs": [
    {
     "data": {
      "text/plain": [
       "<!DOCTYPE html>\n",
       "<html lang=\"en\">\n",
       "<head>\n",
       "<meta charset=\"utf-8\"/>\n",
       "<meta content=\"width=device-width, initial-scale=1, shrink-to-fit=no\" name=\"viewport\"/>\n",
       "<meta content=\"\" name=\"description\"/>\n",
       "<meta content=\"\" name=\"author\"/>\n",
       "<title>Application Semabox | Dashboard</title>\n",
       "<!-- Favicon-->\n",
       "<link href=\"/static/assets/favicon.ico\" rel=\"icon\" type=\"image/x-icon\"/>\n",
       "<!-- Font Awesome icons (free version)-->\n",
       "<script crossorigin=\"anonymous\" src=\"https://use.fontawesome.com/releases/v6.1.0/js/all.js\"></script>\n",
       "<!-- Google fonts-->\n",
       "<link href=\"https://fonts.googleapis.com/css?family=Montserrat:400,700\" rel=\"stylesheet\" type=\"text/css\"/>\n",
       "<link href=\"https://fonts.googleapis.com/css?family=Lato:400,700,400italic,700italic\" rel=\"stylesheet\" type=\"text/css\"/>\n",
       "<!-- Core theme CSS (includes Bootstrap)-->\n",
       "<link href=\"/static/css/styles.css\" rel=\"stylesheet\"/>\n",
       "</head>\n",
       "<body id=\"page-top\">\n",
       "<!-- Navigation-->\n",
       "<nav class=\"navbar navbar-expand-lg bg-secondary text-uppercase fixed-top\" id=\"mainNav\">\n",
       "<div class=\"container\">\n",
       "<a class=\"navbar-brand\" href=\"/\">Application Semabox </a>\n",
       "<button aria-controls=\"navbarResponsive\" aria-expanded=\"false\" aria-label=\"Toggle navigation\" class=\"navbar-toggler text-uppercase font-weight-bold bg-primary text-white rounded\" data-bs-target=\"#navbarResponsive\" data-bs-toggle=\"collapse\" type=\"button\">\n",
       "                    Menu\n",
       "                    <i class=\"fas fa-bars\"></i>\n",
       "</button>\n",
       "<div class=\"collapse navbar-collapse\" id=\"navbarResponsive\">\n",
       "<ul class=\"navbar-nav ms-auto\">\n",
       "<li class=\"nav-item mx-0 mx-lg-1\"><a class=\"nav-link py-3 px-0 px-lg-3 rounded\" href=\"#page-top\">Dashboard</a></li>\n",
       "<li class=\"nav-item mx-0 mx-lg-1\"><a class=\"nav-link py-3 px-0 px-lg-3 rounded\" href=\"#contact\">Support Contact</a></li>\n",
       "<li class=\"nav-item mx-0 mx-lg-1\"><a class=\"nav-link py-3 px-0 px-lg-3 rounded\" href=\"#about\">About</a></li>\n",
       "</ul>\n",
       "</div>\n",
       "</div>\n",
       "</nav>\n",
       "<!-- Masthead-->\n",
       "<header class=\"masthead bg-primary text-white text-center\">\n",
       "<div class=\"container d-flex align-items-center flex-column\">\n",
       "<!-- Masthead Heading-->\n",
       "<h1 class=\"masthead-heading text-uppercase mb-0\">Dashboard | {{name}}</h1>\n",
       "<br/>\n",
       "<br/>\n",
       "<div class=\"row justify-content-center\">\n",
       "<div class=\"col-md-6 col-lg-4 mb-5\">\n",
       "<div class=\"row g-0 border rounded overflow-hidden flex-md-row mb-4 shadow-sm h-md-250 position-relative\">\n",
       "<div class=\"col p-4 d-flex flex-column position-static\">\n",
       "<strong class=\"d-inline-block mb-2 text-primary\">World</strong>\n",
       "<h3 class=\"mb-0\">Featured post {{date}}</h3>\n",
       "<p class=\"card-text mb-auto\">This is a wider card with supporting text below as a natural lead-in to additional content.</p>\n",
       "</div>\n",
       "</div>\n",
       "</div>\n",
       "<div class=\"col-md-6 col-lg-4 mb-5\">\n",
       "<div class=\"row g-0 border rounded overflow-hidden flex-md-row mb-4 shadow-sm h-md-250 position-relative\">\n",
       "<div class=\"col p-4 d-flex flex-column position-static\">\n",
       "<strong class=\"d-inline-block mb-2 text-primary\">World</strong>\n",
       "<h3 class=\"mb-0\">Featured post {{date}}</h3>\n",
       "<p class=\"card-text mb-auto\">This is a wider card with supporting text below as a natural lead-in to additional content.</p>\n",
       "</div>\n",
       "</div>\n",
       "</div>\n",
       "<div class=\"col-md-6 col-lg-4 mb-5 mb-lg-0\">\n",
       "<div class=\"row g-0 border rounded overflow-hidden flex-md-row mb-4 shadow-sm h-md-250 position-relative\">\n",
       "<div class=\"col p-4 d-flex flex-column position-static\">\n",
       "<strong class=\"d-inline-block mb-2 text-primary\">World</strong>\n",
       "<h3 class=\"mb-0\">Featured post {{date}}</h3>\n",
       "<p class=\"card-text mb-auto\">This is a wider card with supporting text below as a natural lead-in to additional content.</p>\n",
       "</div>\n",
       "</div>\n",
       "</div>\n",
       "<div class=\"col-md-6 col-lg-4 mb-5 mb-lg-0\">\n",
       "<div class=\"row g-0 border rounded overflow-hidden flex-md-row mb-4 shadow-sm h-md-250 position-relative\">\n",
       "<div class=\"col p-4 d-flex flex-column position-static\">\n",
       "<strong class=\"d-inline-block mb-2 text-primary\">World</strong>\n",
       "<h3 class=\"mb-0\">Featured post {{date}}</h3>\n",
       "<p class=\"card-text mb-auto\">This is a wider card with supporting text below as a natural lead-in to additional content.</p>\n",
       "</div>\n",
       "</div>\n",
       "</div>\n",
       "<div class=\"col-md-6 col-lg-4 mb-5 mb-lg-0\">\n",
       "<div class=\"row g-0 border rounded overflow-hidden flex-md-row mb-4 shadow-sm h-md-250 position-relative\">\n",
       "<div class=\"col p-4 d-flex flex-column position-static\">\n",
       "<strong class=\"d-inline-block mb-2 text-primary\">World</strong>\n",
       "<h3 class=\"mb-0\">Featured post {{date}}</h3>\n",
       "<p class=\"card-text mb-auto\">This is a wider card with supporting text below as a natural lead-in to additional content.</p>\n",
       "</div>\n",
       "</div>\n",
       "</div>\n",
       "<div class=\"col-md-6 col-lg-4 mb-5 mb-lg-0\">\n",
       "<div class=\"row g-0 border rounded overflow-hidden flex-md-row mb-4 shadow-sm h-md-250 position-relative\">\n",
       "<div class=\"col p-4 d-flex flex-column position-static\">\n",
       "<strong class=\"d-inline-block mb-2 text-primary\">World</strong>\n",
       "<h3 class=\"mb-0\">Featured post {{date}}</h3>\n",
       "<p class=\"card-text mb-auto\">This is a wider card with supporting text below as a natural lead-in to additional content.</p>\n",
       "</div>\n",
       "</div>\n",
       "</div>\n",
       "</div>\n",
       "<br/>\n",
       "<!-- Icon Divider-->\n",
       "</div>\n",
       "</header>\n",
       "<!-- Contact Section-->\n",
       "<section class=\"page-section\" id=\"contact\">\n",
       "<div class=\"container\">\n",
       "<!-- Contact Section Heading-->\n",
       "<h2 class=\"page-section-heading text-center text-uppercase text-secondary mb-0\">Contact Support</h2>\n",
       "<!-- Icon Divider-->\n",
       "<div class=\"divider-custom\">\n",
       "<div class=\"divider-custom-line\"></div>\n",
       "<div class=\"divider-custom-icon\"><i class=\"fas fa-star\"></i></div>\n",
       "<div class=\"divider-custom-line\"></div>\n",
       "</div>\n",
       "<!-- Contact Section Form-->\n",
       "<div class=\"row justify-content-center\">\n",
       "<div class=\"col-lg-8 col-xl-7\">\n",
       "<!-- * * * * * * * * * * * * * * *-->\n",
       "<!-- * * SB Forms Contact Form * *-->\n",
       "<!-- * * * * * * * * * * * * * * *-->\n",
       "<!-- This form is pre-integrated with SB Forms.-->\n",
       "<!-- To make this form functional, sign up at-->\n",
       "<!-- https://startbootstrap.com/solution/contact-forms-->\n",
       "<!-- to get an API token!-->\n",
       "<form action=\"/submit/\" data-sb-form-api-token=\"API_TOKEN\" id=\"contactForm\" method=\"post\">\n",
       "<!-- Name input-->\n",
       "<div class=\"form-floating mb-3\">\n",
       "<input class=\"form-control\" data-sb-validations=\"required\" id=\"name\" name=\"name\" placeholder=\"Enter your name...\" type=\"text\"/>\n",
       "<label for=\"name\">Full name</label>\n",
       "<div class=\"invalid-feedback\" data-sb-feedback=\"name:required\">A name is required.</div>\n",
       "</div>\n",
       "<!-- Email address input-->\n",
       "<div class=\"form-floating mb-3\">\n",
       "<input class=\"form-control\" data-sb-validations=\"required,email\" id=\"email\" name=\"email\" placeholder=\"name@example.com\" type=\"email\"/>\n",
       "<label for=\"email\">Email address</label>\n",
       "<div class=\"invalid-feedback\" data-sb-feedback=\"email:required\">An email is required.</div>\n",
       "<div class=\"invalid-feedback\" data-sb-feedback=\"email:email\">Email is not valid.</div>\n",
       "</div>\n",
       "<!-- Phone number input-->\n",
       "<div class=\"form-floating mb-3\">\n",
       "<input class=\"form-control\" data-sb-validations=\"required\" id=\"phone\" placeholder=\"(123) 456-7890\" type=\"tel\"/>\n",
       "<label for=\"phone\">Phone number</label>\n",
       "<div class=\"invalid-feedback\" data-sb-feedback=\"phone:required\">A phone number is required.</div>\n",
       "</div>\n",
       "<!-- Message input-->\n",
       "<div class=\"form-floating mb-3\">\n",
       "<textarea class=\"form-control\" data-sb-validations=\"required\" id=\"message\" placeholder=\"Enter your message here...\" style=\"height: 10rem\" type=\"text\"></textarea>\n",
       "<label for=\"message\">Message</label>\n",
       "<div class=\"invalid-feedback\" data-sb-feedback=\"message:required\">A message is required.</div>\n",
       "</div>\n",
       "<!-- Submit success message-->\n",
       "<!-- -->\n",
       "<!-- This is what your users will see when the form-->\n",
       "<!-- has successfully submitted-->\n",
       "<div class=\"d-none\" id=\"submitSuccessMessage\">\n",
       "<div class=\"text-center mb-3\">\n",
       "<div class=\"fw-bolder\">Form submission successful!</div>\n",
       "</div>\n",
       "</div>\n",
       "<!-- Submit error message-->\n",
       "<!-- -->\n",
       "<!-- This is what your users will see when there is-->\n",
       "<!-- an error submitting the form-->\n",
       "<div class=\"d-none\" id=\"submitErrorMessage\"><div class=\"text-center text-danger mb-3\">Error sending message!</div></div>\n",
       "<!-- Submit Button-->\n",
       "<button class=\"btn btn-xl btn-outline-light btn-primary btn-xl\" style=\"background-color:#59b99d;\" type=\"submit\">\n",
       "<i class=\"fas fa-cog fa-pulse me-2\"></i>\n",
       "                                    Send</button>\n",
       "</form>\n",
       "</div>\n",
       "</div>\n",
       "</div>\n",
       "</section>\n",
       "<!-- About Section-->\n",
       "<section class=\"page-section bg-primary text-white mb-0\" id=\"about\">\n",
       "<div class=\"container\">\n",
       "<!-- About Section Heading-->\n",
       "<h2 class=\"page-section-heading text-center text-uppercase text-white\">About</h2>\n",
       "<!-- Icon Divider-->\n",
       "<div class=\"divider-custom divider-light\">\n",
       "<div class=\"divider-custom-line\"></div>\n",
       "<div class=\"divider-custom-icon\"><i class=\"fas fa-star\"></i></div>\n",
       "<div class=\"divider-custom-line\"></div>\n",
       "</div>\n",
       "<!-- About Section Content-->\n",
       "<div class=\"row\">\n",
       "<div class=\"col-lg-4 ms-auto\"><p class=\"lead\">Freelancer is a free bootstrap theme created by Start Bootstrap. The download includes the complete source files including HTML, CSS, and JavaScript as well as optional SASS stylesheets for easy customization.</p></div>\n",
       "<div class=\"col-lg-4 me-auto\"><p class=\"lead\">You can create your own custom avatar for the masthead, change the icon in the dividers, and add your email address to the contact form to make it fully functional!</p></div>\n",
       "</div>\n",
       "<!-- About Section Button-->\n",
       "<form action=\"/predict/\" class=\"text-center mt-4\" method=\"post\">\n",
       "<button class=\"btn btn-xl btn-outline-light\" type=\"submit\">\n",
       "<i class=\"fas fa-cog fa-pulse me-2\"></i>\n",
       "                        Go to second Dashboard</button>\n",
       "</form>\n",
       "</div>\n",
       "</section>\n",
       "<!-- Footer-->\n",
       "<footer class=\"footer text-center\">\n",
       "<div class=\"container\">\n",
       "<div class=\"row\">\n",
       "<!-- Footer Location-->\n",
       "<div class=\"col-lg-4 mb-5 mb-lg-0\">\n",
       "<h4 class=\"text-uppercase mb-4\">Location</h4>\n",
       "<p class=\"lead mb-0\">\n",
       "                            2215 John Daniel Drive\n",
       "                            <br/>\n",
       "                            Clark, MO 65243\n",
       "                        </p>\n",
       "</div>\n",
       "<!-- Footer Social Icons-->\n",
       "<div class=\"col-lg-4 mb-5 mb-lg-0\">\n",
       "<h4 class=\"text-uppercase mb-4\">Around the Web</h4>\n",
       "<a class=\"btn btn-outline-light btn-social mx-1\" href=\"#!\"><i class=\"fab fa-fw fa-facebook-f\"></i></a>\n",
       "<a class=\"btn btn-outline-light btn-social mx-1\" href=\"#!\"><i class=\"fab fa-fw fa-twitter\"></i></a>\n",
       "<a class=\"btn btn-outline-light btn-social mx-1\" href=\"#!\"><i class=\"fab fa-fw fa-linkedin-in\"></i></a>\n",
       "<a class=\"btn btn-outline-light btn-social mx-1\" href=\"#!\"><i class=\"fab fa-fw fa-dribbble\"></i></a>\n",
       "</div>\n",
       "<!-- Footer About Text-->\n",
       "<div class=\"col-lg-4\">\n",
       "<h4 class=\"text-uppercase mb-4\">About Freelancer</h4>\n",
       "<p class=\"lead mb-0\">\n",
       "                            Freelance is a free to use,  MIT licensed Bootstrap theme created by\n",
       "                            <a href=\"http://startbootstrap.com\">Start Bootstrap</a>\n",
       "                            .\n",
       "                        </p>\n",
       "</div>\n",
       "</div>\n",
       "</div>\n",
       "</footer>\n",
       "<!-- Copyright Section-->\n",
       "<div class=\"copyright py-4 text-center text-white\">\n",
       "<div class=\"container\"><small>Copyright © Your Website 2022</small></div>\n",
       "</div>\n",
       "<!-- Bootstrap core JS-->\n",
       "<script src=\"https://cdn.jsdelivr.net/npm/bootstrap@5.1.3/dist/js/bootstrap.bundle.min.js\"></script>\n",
       "<!-- Core theme JS-->\n",
       "<script src=\"/static/js/scripts.js\"></script>\n",
       "<!-- * * * * * * * * * * * * * * * * * * * * * * * * * * * * * * * * * * * * * * * *-->\n",
       "<!-- * *                               SB Forms JS                               * *-->\n",
       "<!-- * * Activate your form at https://startbootstrap.com/solution/contact-forms * *-->\n",
       "<!-- * * * * * * * * * * * * * * * * * * * * * * * * * * * * * * * * * * * * * * * *-->\n",
       "<script src=\"https://cdn.startbootstrap.com/sb-forms-latest.js\"></script>\n",
       "</body>\n",
       "</html>"
      ]
     },
     "execution_count": 12,
     "metadata": {},
     "output_type": "execute_result"
    }
   ],
   "source": [
    "from bs4 import BeautifulSoup\n",
    "import requests\n",
    "\n",
    "with open('../Integration-continue-app-flsak/templates/index.html' , 'r', encoding='utf-8') as f:\n",
    "    data = f.read()\n",
    "    \n",
    "soup = BeautifulSoup(data)\n",
    "soup"
   ]
  },
  {
   "cell_type": "code",
   "execution_count": 13,
   "id": "bc572e8c",
   "metadata": {},
   "outputs": [
    {
     "data": {
      "text/plain": [
       "'Dashboard | {{name}}'"
      ]
     },
     "execution_count": 13,
     "metadata": {},
     "output_type": "execute_result"
    }
   ],
   "source": [
    "soup.find('h1').text"
   ]
  }
 ],
 "metadata": {
  "kernelspec": {
   "display_name": "Python 3 (ipykernel)",
   "language": "python",
   "name": "python3"
  },
  "language_info": {
   "codemirror_mode": {
    "name": "ipython",
    "version": 3
   },
   "file_extension": ".py",
   "mimetype": "text/x-python",
   "name": "python",
   "nbconvert_exporter": "python",
   "pygments_lexer": "ipython3",
   "version": "3.10.6"
  }
 },
 "nbformat": 4,
 "nbformat_minor": 5
}
