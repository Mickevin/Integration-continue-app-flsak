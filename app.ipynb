{
 "cells": [
  {
   "cell_type": "code",
   "execution_count": null,
   "id": "118bfddc",
   "metadata": {},
   "outputs": [
    {
     "name": "stdout",
     "output_type": "stream",
     "text": [
      " * Serving Flask app '__main__'\n",
      " * Debug mode: off\n"
     ]
    },
    {
     "name": "stderr",
     "output_type": "stream",
     "text": [
      "\u001b[31m\u001b[1mWARNING: This is a development server. Do not use it in a production deployment. Use a production WSGI server instead.\u001b[0m\n",
      " * Running on http://127.0.0.1:4000\n",
      "\u001b[33mPress CTRL+C to quit\u001b[0m\n",
      "127.0.0.1 - - [05/Nov/2022 13:50:46] \"GET / HTTP/1.1\" 200 -\n",
      "127.0.0.1 - - [05/Nov/2022 13:50:46] \"GET /static/css/styles.css HTTP/1.1\" 200 -\n",
      "127.0.0.1 - - [05/Nov/2022 13:50:46] \"\u001b[36mGET /static/js/scripts.js HTTP/1.1\u001b[0m\" 304 -\n",
      "127.0.0.1 - - [05/Nov/2022 13:50:47] \"\u001b[36mGET /static/assets/img/avataaars.svg HTTP/1.1\u001b[0m\" 304 -\n",
      "127.0.0.1 - - [05/Nov/2022 13:50:47] \"\u001b[33mGET /assets/brand/bootstrap-logo.svg HTTP/1.1\u001b[0m\" 404 -\n",
      "127.0.0.1 - - [05/Nov/2022 13:50:47] \"GET /static/assets/img/portfolio/cabin.png HTTP/1.1\" 200 -\n",
      "127.0.0.1 - - [05/Nov/2022 13:50:47] \"GET /static/assets/img/portfolio/cake.png HTTP/1.1\" 200 -\n",
      "127.0.0.1 - - [05/Nov/2022 13:50:47] \"GET /static/assets/img/portfolio/circus.png HTTP/1.1\" 200 -\n",
      "127.0.0.1 - - [05/Nov/2022 13:50:47] \"GET /static/assets/img/portfolio/game.png HTTP/1.1\" 200 -\n",
      "127.0.0.1 - - [05/Nov/2022 13:50:47] \"GET /static/assets/img/portfolio/safe.png HTTP/1.1\" 200 -\n",
      "127.0.0.1 - - [05/Nov/2022 13:50:47] \"GET /static/assets/img/portfolio/submarine.png HTTP/1.1\" 200 -\n",
      "127.0.0.1 - - [05/Nov/2022 14:20:31] \"\u001b[36mGET /static/css/styles.css HTTP/1.1\u001b[0m\" 304 -\n"
     ]
    }
   ],
   "source": [
    "from flask import Flask, render_template, request\n",
    "import requests\n",
    "import warnings\n",
    "import time\n",
    "\n",
    "# Données à afficher\n",
    "#Adresses IP de la semabox / Nom de la semabox\n",
    "#o IP publique de l’accès Internet / nom dns dynamique\n",
    "#o Etat de la connexion Internet\n",
    "#o Liste des machines détectées sur le réseau\n",
    "#o Résultats du dernier test de débit\n",
    "\n",
    "warnings.filterwarnings('ignore')\n",
    "\n",
    "def date_time():\n",
    "    day = time.localtime().tm_mday\n",
    "    month = time.localtime().tm_mon\n",
    "    year = time.localtime().tm_year\n",
    "    \n",
    "    return f'{day}/{month}/{year}'\n",
    "\n",
    "date = date_time()\n",
    "app = Flask(__name__)\n",
    "\n",
    "@app.route('/', methods=['GET'])\n",
    "def app_home():\n",
    "    return render_template(\"index.html\", date=date)\n",
    "\n",
    "\n",
    "\n",
    "@app.route('/predict/', methods=['POST'])\n",
    "def result():    \n",
    "    if request.method == 'POST':\n",
    "        return render_template(\"prediction.html\")\n",
    "\n",
    "\n",
    "if __name__ == '__main__':\n",
    "    app.run(host='127.0.0.1',port=4000,)"
   ]
  },
  {
   "cell_type": "code",
   "execution_count": 3,
   "id": "6c09aeb7",
   "metadata": {},
   "outputs": [
    {
     "name": "stdout",
     "output_type": "stream",
     "text": [
      "Procfile\n",
      "Scripts\n",
      "Untitled.ipynb\n",
      "__pycache__\n",
      "app.py\n",
      "blog\n",
      "heroes\n",
      "requirements.txt\n",
      "static\n",
      "templates\n",
      "test.py\n",
      "tests\n"
     ]
    },
    {
     "data": {
      "text/plain": [
       "int"
      ]
     },
     "execution_count": 3,
     "metadata": {},
     "output_type": "execute_result"
    }
   ],
   "source": [
    "import os\n",
    "os.listdir('./')"
   ]
  }
 ],
 "metadata": {
  "kernelspec": {
   "display_name": "Python 3 (ipykernel)",
   "language": "python",
   "name": "python3"
  },
  "language_info": {
   "codemirror_mode": {
    "name": "ipython",
    "version": 3
   },
   "file_extension": ".py",
   "mimetype": "text/x-python",
   "name": "python",
   "nbconvert_exporter": "python",
   "pygments_lexer": "ipython3",
   "version": "3.10.6"
  }
 },
 "nbformat": 4,
 "nbformat_minor": 5
}
