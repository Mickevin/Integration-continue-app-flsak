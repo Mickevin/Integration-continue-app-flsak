{
 "cells": [
  {
   "cell_type": "code",
   "execution_count": null,
   "id": "118bfddc",
   "metadata": {},
   "outputs": [
    {
     "name": "stdout",
     "output_type": "stream",
     "text": [
      " * Serving Flask app '__main__'\n",
      " * Debug mode: off\n"
     ]
    },
    {
     "name": "stderr",
     "output_type": "stream",
     "text": [
      "\u001b[31m\u001b[1mWARNING: This is a development server. Do not use it in a production deployment. Use a production WSGI server instead.\u001b[0m\n",
      " * Running on http://127.0.0.1:4000\n",
      "\u001b[33mPress CTRL+C to quit\u001b[0m\n",
      "127.0.0.1 - - [05/Nov/2022 13:50:46] \"GET / HTTP/1.1\" 200 -\n",
      "127.0.0.1 - - [05/Nov/2022 13:50:46] \"GET /static/css/styles.css HTTP/1.1\" 200 -\n",
      "127.0.0.1 - - [05/Nov/2022 13:50:46] \"\u001b[36mGET /static/js/scripts.js HTTP/1.1\u001b[0m\" 304 -\n",
      "127.0.0.1 - - [05/Nov/2022 13:50:47] \"\u001b[36mGET /static/assets/img/avataaars.svg HTTP/1.1\u001b[0m\" 304 -\n",
      "127.0.0.1 - - [05/Nov/2022 13:50:47] \"\u001b[33mGET /assets/brand/bootstrap-logo.svg HTTP/1.1\u001b[0m\" 404 -\n",
      "127.0.0.1 - - [05/Nov/2022 13:50:47] \"GET /static/assets/img/portfolio/cabin.png HTTP/1.1\" 200 -\n",
      "127.0.0.1 - - [05/Nov/2022 13:50:47] \"GET /static/assets/img/portfolio/cake.png HTTP/1.1\" 200 -\n",
      "127.0.0.1 - - [05/Nov/2022 13:50:47] \"GET /static/assets/img/portfolio/circus.png HTTP/1.1\" 200 -\n",
      "127.0.0.1 - - [05/Nov/2022 13:50:47] \"GET /static/assets/img/portfolio/game.png HTTP/1.1\" 200 -\n",
      "127.0.0.1 - - [05/Nov/2022 13:50:47] \"GET /static/assets/img/portfolio/safe.png HTTP/1.1\" 200 -\n",
      "127.0.0.1 - - [05/Nov/2022 13:50:47] \"GET /static/assets/img/portfolio/submarine.png HTTP/1.1\" 200 -\n",
      "127.0.0.1 - - [05/Nov/2022 14:20:31] \"\u001b[36mGET /static/css/styles.css HTTP/1.1\u001b[0m\" 304 -\n"
     ]
    }
   ],
   "source": [
    "from flask import Flask, render_template, request\n",
    "import requests\n",
    "import warnings\n",
    "import time\n",
    "\n",
    "\n",
    "warnings.filterwarnings('ignore')\n",
    "\n",
    "def date_time():\n",
    "    day = time.localtime().tm_mday\n",
    "    month = time.localtime().tm_mon\n",
    "    year = time.localtime().tm_year\n",
    "    \n",
    "    return f'{day}/{month}/{year}'\n",
    "\n",
    "date = date_time()\n",
    "app = Flask(__name__)\n",
    "\n",
    "\n",
    "@app.route('/', methods=['GET'])\n",
    "def app_home():\n",
    "    return render_template(\"index.html\", date=date)\n",
    "\n",
    "\n",
    "\n",
    "@app.route('/predict/', methods=['POST'])\n",
    "def result():    \n",
    "    if request.method == 'POST':\n",
    "        return render_template(\"prediction.html\")\n",
    "\n",
    "\n",
    "if __name__ == '__main__':\n",
    "    app.run(host='127.0.0.1',port=4000,)"
   ]
  },
  {
   "cell_type": "code",
   "execution_count": 1,
   "id": "5059949f",
   "metadata": {},
   "outputs": [],
   "source": [
    "import unittest"
   ]
  },
  {
   "cell_type": "code",
   "execution_count": 3,
   "id": "6c09aeb7",
   "metadata": {},
   "outputs": [
    {
     "name": "stdout",
     "output_type": "stream",
     "text": [
      "Procfile\n",
      "Scripts\n",
      "Untitled.ipynb\n",
      "__pycache__\n",
      "app.py\n",
      "blog\n",
      "heroes\n",
      "requirements.txt\n",
      "static\n",
      "templates\n",
      "test.py\n",
      "tests\n"
     ]
    },
    {
     "data": {
      "text/plain": [
       "int"
      ]
     },
     "execution_count": 3,
     "metadata": {},
     "output_type": "execute_result"
    }
   ],
   "source": [
    "import os\n",
    "os.system('ls')"
   ]
  },
  {
   "cell_type": "code",
   "execution_count": 13,
   "id": "e283b545",
   "metadata": {},
   "outputs": [
    {
     "data": {
      "text/plain": [
       "['.DS_Store',\n",
       " 'requirements.txt',\n",
       " 'Untitled.ipynb',\n",
       " 'heroes',\n",
       " 'tests',\n",
       " '__pycache__',\n",
       " 'test.py',\n",
       " 'blog',\n",
       " 'static',\n",
       " 'Scripts',\n",
       " '.gitattributes',\n",
       " 'app.py',\n",
       " 'templates',\n",
       " '.ipynb_checkpoints',\n",
       " 'Procfile',\n",
       " '.git']"
      ]
     },
     "execution_count": 13,
     "metadata": {},
     "output_type": "execute_result"
    }
   ],
   "source": [
    "os.listdir('./')"
   ]
  },
  {
   "cell_type": "code",
   "execution_count": null,
   "id": "b67a2115",
   "metadata": {},
   "outputs": [],
   "source": [
    "Adresses IP de la semabox / Nom de la semabox\n",
    "o IP publique de l’accès Internet / nom dns dynamique\n",
    "o Etat de la connexion Internet\n",
    "o Liste des machines détectées sur le réseau\n",
    "o Résultats du dernier test de débit"
   ]
  },
  {
   "cell_type": "code",
   "execution_count": 1,
   "id": "05dc8c74",
   "metadata": {},
   "outputs": [],
   "source": [
    "import os"
   ]
  },
  {
   "cell_type": "code",
   "execution_count": 2,
   "id": "aeabec32",
   "metadata": {},
   "outputs": [
    {
     "data": {
      "text/plain": [
       "'posix'"
      ]
     },
     "execution_count": 2,
     "metadata": {},
     "output_type": "execute_result"
    }
   ],
   "source": [
    "os.name"
   ]
  },
  {
   "cell_type": "code",
   "execution_count": 4,
   "id": "008c9b8f",
   "metadata": {},
   "outputs": [
    {
     "data": {
      "text/plain": [
       "'MacBook-Pro-de-Kevin.local'"
      ]
     },
     "execution_count": 4,
     "metadata": {},
     "output_type": "execute_result"
    }
   ],
   "source": [
    "import socket\n",
    "socket.gethostname()"
   ]
  },
  {
   "cell_type": "code",
   "execution_count": 2,
   "id": "469b49cc",
   "metadata": {},
   "outputs": [],
   "source": [
    "import flask"
   ]
  },
  {
   "cell_type": "code",
   "execution_count": 13,
   "id": "0a182246",
   "metadata": {},
   "outputs": [],
   "source": [
    "from flask import Flask, render_template, request"
   ]
  },
  {
   "cell_type": "code",
   "execution_count": 3,
   "id": "fe2a6ba5",
   "metadata": {},
   "outputs": [],
   "source": [
    "import flask_wtf"
   ]
  },
  {
   "cell_type": "code",
   "execution_count": 12,
   "id": "1b8ee1c6",
   "metadata": {},
   "outputs": [
    {
     "ename": "TypeError",
     "evalue": "Field.gettext() missing 1 required positional argument: 'string'",
     "output_type": "error",
     "traceback": [
      "\u001b[0;31m---------------------------------------------------------------------------\u001b[0m",
      "\u001b[0;31mTypeError\u001b[0m                                 Traceback (most recent call last)",
      "Input \u001b[0;32mIn [12]\u001b[0m, in \u001b[0;36m<cell line: 1>\u001b[0;34m()\u001b[0m\n\u001b[0;32m----> 1\u001b[0m \u001b[43mflask_wtf\u001b[49m\u001b[38;5;241;43m.\u001b[39;49m\u001b[43mrecaptcha\u001b[49m\u001b[38;5;241;43m.\u001b[39;49m\u001b[43mfields\u001b[49m\u001b[38;5;241;43m.\u001b[39;49m\u001b[43mField\u001b[49m\u001b[38;5;241;43m.\u001b[39;49m\u001b[43mgettext\u001b[49m\u001b[43m(\u001b[49m\u001b[38;5;124;43m'\u001b[39;49m\u001b[38;5;124;43mtz\u001b[39;49m\u001b[38;5;124;43m'\u001b[39;49m\u001b[43m)\u001b[49m\n",
      "\u001b[0;31mTypeError\u001b[0m: Field.gettext() missing 1 required positional argument: 'string'"
     ]
    }
   ],
   "source": [
    "flask_wtf.recaptcha.fields.Field.gettext('tz')"
   ]
  },
  {
   "cell_type": "code",
   "execution_count": 20,
   "id": "f5b5a253",
   "metadata": {},
   "outputs": [
    {
     "ename": "RuntimeError",
     "evalue": "Working outside of request context.\n\nThis typically means that you attempted to use functionality that needed\nan active HTTP request. Consult the documentation on testing for\ninformation about how to avoid this problem.",
     "output_type": "error",
     "traceback": [
      "\u001b[0;31m---------------------------------------------------------------------------\u001b[0m",
      "\u001b[0;31mRuntimeError\u001b[0m                              Traceback (most recent call last)",
      "Input \u001b[0;32mIn [20]\u001b[0m, in \u001b[0;36m<cell line: 1>\u001b[0;34m()\u001b[0m\n\u001b[0;32m----> 1\u001b[0m \u001b[43mrequest\u001b[49m\u001b[38;5;241;43m.\u001b[39;49m\u001b[43margs\u001b[49m\n",
      "File \u001b[0;32m/Library/Frameworks/Python.framework/Versions/3.10/lib/python3.10/site-packages/werkzeug/local.py:316\u001b[0m, in \u001b[0;36m_ProxyLookup.__get__\u001b[0;34m(self, instance, owner)\u001b[0m\n\u001b[1;32m    313\u001b[0m     \u001b[38;5;28;01mreturn\u001b[39;00m \u001b[38;5;28mself\u001b[39m\n\u001b[1;32m    315\u001b[0m \u001b[38;5;28;01mtry\u001b[39;00m:\n\u001b[0;32m--> 316\u001b[0m     obj \u001b[38;5;241m=\u001b[39m \u001b[43minstance\u001b[49m\u001b[38;5;241;43m.\u001b[39;49m\u001b[43m_get_current_object\u001b[49m\u001b[43m(\u001b[49m\u001b[43m)\u001b[49m  \u001b[38;5;66;03m# type: ignore[misc]\u001b[39;00m\n\u001b[1;32m    317\u001b[0m \u001b[38;5;28;01mexcept\u001b[39;00m \u001b[38;5;167;01mRuntimeError\u001b[39;00m:\n\u001b[1;32m    318\u001b[0m     \u001b[38;5;28;01mif\u001b[39;00m \u001b[38;5;28mself\u001b[39m\u001b[38;5;241m.\u001b[39mfallback \u001b[38;5;129;01mis\u001b[39;00m \u001b[38;5;28;01mNone\u001b[39;00m:\n",
      "File \u001b[0;32m/Library/Frameworks/Python.framework/Versions/3.10/lib/python3.10/site-packages/werkzeug/local.py:513\u001b[0m, in \u001b[0;36mLocalProxy.__init__.<locals>._get_current_object\u001b[0;34m()\u001b[0m\n\u001b[1;32m    511\u001b[0m     obj \u001b[38;5;241m=\u001b[39m local\u001b[38;5;241m.\u001b[39mget()  \u001b[38;5;66;03m# type: ignore[union-attr]\u001b[39;00m\n\u001b[1;32m    512\u001b[0m \u001b[38;5;28;01mexcept\u001b[39;00m \u001b[38;5;167;01mLookupError\u001b[39;00m:\n\u001b[0;32m--> 513\u001b[0m     \u001b[38;5;28;01mraise\u001b[39;00m \u001b[38;5;167;01mRuntimeError\u001b[39;00m(unbound_message) \u001b[38;5;28;01mfrom\u001b[39;00m \u001b[38;5;28mNone\u001b[39m\n\u001b[1;32m    515\u001b[0m \u001b[38;5;28;01mreturn\u001b[39;00m get_name(obj)\n",
      "\u001b[0;31mRuntimeError\u001b[0m: Working outside of request context.\n\nThis typically means that you attempted to use functionality that needed\nan active HTTP request. Consult the documentation on testing for\ninformation about how to avoid this problem."
     ]
    }
   ],
   "source": [
    "request.args"
   ]
  },
  {
   "cell_type": "code",
   "execution_count": null,
   "id": "07fc2358",
   "metadata": {},
   "outputs": [],
   "source": []
  }
 ],
 "metadata": {
  "kernelspec": {
   "display_name": "Python 3 (ipykernel)",
   "language": "python",
   "name": "python3"
  },
  "language_info": {
   "codemirror_mode": {
    "name": "ipython",
    "version": 3
   },
   "file_extension": ".py",
   "mimetype": "text/x-python",
   "name": "python",
   "nbconvert_exporter": "python",
   "pygments_lexer": "ipython3",
   "version": "3.10.6"
  }
 },
 "nbformat": 4,
 "nbformat_minor": 5
}
